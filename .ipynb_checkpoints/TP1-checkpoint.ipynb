{
 "cells": [
  {
   "cell_type": "code",
   "execution_count": 27,
   "id": "02df31f8",
   "metadata": {},
   "outputs": [],
   "source": [
    "class Weapon:\n",
    "    def __init__(self,ammunitions:int,range:int) -> None:\n",
    "        self.ammunitions=ammunitions\n",
    "        self.range=range\n",
    "    def fire_at(self,x:int,y:int,z:int):\n",
    "        self.x=x\n",
    "        self.y=y\n",
    "        self.z=z\n",
    "        "
   ]
  },
  {
   "cell_type": "code",
   "execution_count": 41,
   "id": "753ecbd0",
   "metadata": {},
   "outputs": [
    {
     "name": "stderr",
     "output_type": "stream",
     "text": [
      "E\n",
      "======================================================================\n",
      "ERROR: C:\\Users\\HP\\AppData\\Roaming\\jupyter\\runtime\\kernel-c879a04d-4675-4fb7-9431-adc995bca9fc (unittest.loader._FailedTest)\n",
      "----------------------------------------------------------------------\n",
      "AttributeError: module '__main__' has no attribute 'C:\\Users\\HP\\AppData\\Roaming\\jupyter\\runtime\\kernel-c879a04d-4675-4fb7-9431-adc995bca9fc'\n",
      "\n",
      "----------------------------------------------------------------------\n",
      "Ran 1 test in 0.002s\n",
      "\n",
      "FAILED (errors=1)\n"
     ]
    },
    {
     "ename": "SystemExit",
     "evalue": "True",
     "output_type": "error",
     "traceback": [
      "An exception has occurred, use %tb to see the full traceback.\n",
      "\u001b[1;31mSystemExit\u001b[0m\u001b[1;31m:\u001b[0m True\n"
     ]
    },
    {
     "name": "stderr",
     "output_type": "stream",
     "text": [
      "C:\\ProgramData\\Anaconda3\\lib\\site-packages\\IPython\\core\\interactiveshell.py:3445: UserWarning: To exit: use 'exit', 'quit', or Ctrl-D.\n",
      "  warn(\"To exit: use 'exit', 'quit', or Ctrl-D.\", stacklevel=1)\n"
     ]
    }
   ],
   "source": []
  },
  {
   "cell_type": "code",
   "execution_count": 39,
   "id": "88e97cb0",
   "metadata": {},
   "outputs": [
    {
     "data": {
      "text/plain": [
       "<bound method TestUtils.test_is_weapon of <__main__.TestUtils testMethod=runTest>>"
      ]
     },
     "execution_count": 39,
     "metadata": {},
     "output_type": "execute_result"
    }
   ],
   "source": [
    "a=TestUtils()\n",
    "a.test_is_weapon\n"
   ]
  },
  {
   "cell_type": "code",
   "execution_count": 29,
   "id": "2af49e31",
   "metadata": {},
   "outputs": [],
   "source": [
    "class OutOfRangeError(Exception):\n",
    "\n",
    "    def __init__(self,z, message=\"la condition en z n'est pas verifié\"):\n",
    "        self.z = z\n",
    "        self.message = message\n",
    "        super().__init__(self.message)\n",
    "\n",
    "class NoAmmunitionError(Exception):\n",
    "\n",
    "    def __init__(self,ammunitions, message=\"la munitions est egale à 0\"):\n",
    "        self.ammunitions= ammunitions\n",
    "        self.message = message\n",
    "        super().__init__(self.message)\n",
    "\n",
    "\n",
    "\n",
    "class Lance_missiles_antisurface(Weapon):\n",
    "    def __init__(self):\n",
    "        super().__init__(40,30)\n",
    "        \n",
    "    def fire_at(self,x:int,y:int,z:int):\n",
    "        self.x=x\n",
    "        self.y=y\n",
    "        self.z=z\n",
    "        if self.ammunitions==0:\n",
    "            raise NoAmmunitionError(self.ammunitions)\n",
    "        if  self.z!=0:\n",
    "        \n",
    "            raise OutOfRangeError(z)\n",
    "            self.ammunitions=self.ammunitions-1\n",
    "            \n",
    "            \n",
    "class Lance_missiles_antiair(Weapon):\n",
    "    def __init__(self):\n",
    "        super().__init__(40,30)\n",
    "\n",
    "\n",
    "        \n",
    "    def fire_at(self,x:int,y:int,z:int):\n",
    "        self.x=x\n",
    "        self.y=y\n",
    "        self.z=z\n",
    "        if self.ammunitions==0:\n",
    "            raise NoAmmunitionError(self.ammunitions)\n",
    "        \n",
    "        if self.z<=0:\n",
    "            raise OutOfRangeError(z) \n",
    "            self.ammunitions=self.ammunitions-1\n",
    "            \n",
    "class Lance_torpilles(Weapon):\n",
    "    def __init__(self):\n",
    "        super().__init__(15,20)\n",
    "        \n",
    "    def fire_at(self,x:int,y:int,z:int):\n",
    "        self.x=x\n",
    "        self.y=y\n",
    "        self.z=z\n",
    "        if self.ammunitions==0:\n",
    "            raise NoAmmunitionError(self.ammunitions)\n",
    "        if self.z>0:\n",
    "            raise OutOfRangeError(z) \n",
    "            self.ammunitions=self.ammunitions-1\n",
    "        \n",
    "    "
   ]
  },
  {
   "cell_type": "code",
   "execution_count": 43,
   "id": "c16969e5",
   "metadata": {},
   "outputs": [
    {
     "name": "stderr",
     "output_type": "stream",
     "text": [
      "E\n",
      "======================================================================\n",
      "ERROR: C:\\Users\\HP\\AppData\\Roaming\\jupyter\\runtime\\kernel-c879a04d-4675-4fb7-9431-adc995bca9fc (unittest.loader._FailedTest)\n",
      "----------------------------------------------------------------------\n",
      "AttributeError: module '__main__' has no attribute 'C:\\Users\\HP\\AppData\\Roaming\\jupyter\\runtime\\kernel-c879a04d-4675-4fb7-9431-adc995bca9fc'\n",
      "\n",
      "----------------------------------------------------------------------\n",
      "Ran 1 test in 0.002s\n",
      "\n",
      "FAILED (errors=1)\n"
     ]
    },
    {
     "ename": "SystemExit",
     "evalue": "True",
     "output_type": "error",
     "traceback": [
      "An exception has occurred, use %tb to see the full traceback.\n",
      "\u001b[1;31mSystemExit\u001b[0m\u001b[1;31m:\u001b[0m True\n"
     ]
    },
    {
     "name": "stderr",
     "output_type": "stream",
     "text": [
      "C:\\ProgramData\\Anaconda3\\lib\\site-packages\\IPython\\core\\interactiveshell.py:3445: UserWarning: To exit: use 'exit', 'quit', or Ctrl-D.\n",
      "  warn(\"To exit: use 'exit', 'quit', or Ctrl-D.\", stacklevel=1)\n"
     ]
    }
   ],
   "source": []
  },
  {
   "cell_type": "code",
   "execution_count": 30,
   "id": "0cdc9ca3",
   "metadata": {},
   "outputs": [],
   "source": []
  },
  {
   "cell_type": "code",
   "execution_count": 31,
   "id": "1f8f6cd6",
   "metadata": {},
   "outputs": [
    {
     "ename": "OutOfRangeError",
     "evalue": "la condition en z n'est pas verifié",
     "output_type": "error",
     "traceback": [
      "\u001b[1;31m---------------------------------------------------------------------------\u001b[0m",
      "\u001b[1;31mOutOfRangeError\u001b[0m                           Traceback (most recent call last)",
      "\u001b[1;32m<ipython-input-31-cf24534d601c>\u001b[0m in \u001b[0;36m<module>\u001b[1;34m\u001b[0m\n\u001b[1;32m----> 1\u001b[1;33m \u001b[0ma\u001b[0m\u001b[1;33m.\u001b[0m\u001b[0mfire_at\u001b[0m\u001b[1;33m(\u001b[0m\u001b[1;36m10\u001b[0m\u001b[1;33m,\u001b[0m\u001b[1;36m10\u001b[0m\u001b[1;33m,\u001b[0m\u001b[1;36m1\u001b[0m\u001b[1;33m)\u001b[0m\u001b[1;33m\u001b[0m\u001b[1;33m\u001b[0m\u001b[0m\n\u001b[0m",
      "\u001b[1;32m<ipython-input-29-4a0e0625780d>\u001b[0m in \u001b[0;36mfire_at\u001b[1;34m(self, x, y, z)\u001b[0m\n\u001b[0;32m     27\u001b[0m         \u001b[1;32mif\u001b[0m  \u001b[0mself\u001b[0m\u001b[1;33m.\u001b[0m\u001b[0mz\u001b[0m\u001b[1;33m!=\u001b[0m\u001b[1;36m0\u001b[0m\u001b[1;33m:\u001b[0m\u001b[1;33m\u001b[0m\u001b[1;33m\u001b[0m\u001b[0m\n\u001b[0;32m     28\u001b[0m \u001b[1;33m\u001b[0m\u001b[0m\n\u001b[1;32m---> 29\u001b[1;33m             \u001b[1;32mraise\u001b[0m \u001b[0mOutOfRangeError\u001b[0m\u001b[1;33m(\u001b[0m\u001b[0mz\u001b[0m\u001b[1;33m)\u001b[0m\u001b[1;33m\u001b[0m\u001b[1;33m\u001b[0m\u001b[0m\n\u001b[0m\u001b[0;32m     30\u001b[0m             \u001b[0mself\u001b[0m\u001b[1;33m.\u001b[0m\u001b[0mammunitions\u001b[0m\u001b[1;33m=\u001b[0m\u001b[0mself\u001b[0m\u001b[1;33m.\u001b[0m\u001b[0mammunitions\u001b[0m\u001b[1;33m-\u001b[0m\u001b[1;36m1\u001b[0m\u001b[1;33m\u001b[0m\u001b[1;33m\u001b[0m\u001b[0m\n\u001b[0;32m     31\u001b[0m \u001b[1;33m\u001b[0m\u001b[0m\n",
      "\u001b[1;31mOutOfRangeError\u001b[0m: la condition en z n'est pas verifié"
     ]
    }
   ],
   "source": []
  },
  {
   "cell_type": "code",
   "execution_count": 23,
   "id": "4039c393",
   "metadata": {},
   "outputs": [],
   "source": []
  },
  {
   "cell_type": "code",
   "execution_count": 24,
   "id": "863ec3c6",
   "metadata": {},
   "outputs": [],
   "source": []
  },
  {
   "cell_type": "code",
   "execution_count": 25,
   "id": "e46b688f",
   "metadata": {},
   "outputs": [],
   "source": []
  },
  {
   "cell_type": "code",
   "execution_count": 26,
   "id": "5cd2a3a3",
   "metadata": {},
   "outputs": [
    {
     "ename": "OutOfRangeError",
     "evalue": "la condition en z n'est pas verifié",
     "output_type": "error",
     "traceback": [
      "\u001b[1;31m---------------------------------------------------------------------------\u001b[0m",
      "\u001b[1;31mOutOfRangeError\u001b[0m                           Traceback (most recent call last)",
      "\u001b[1;32m<ipython-input-26-cf24534d601c>\u001b[0m in \u001b[0;36m<module>\u001b[1;34m\u001b[0m\n\u001b[1;32m----> 1\u001b[1;33m \u001b[0ma\u001b[0m\u001b[1;33m.\u001b[0m\u001b[0mfire_at\u001b[0m\u001b[1;33m(\u001b[0m\u001b[1;36m10\u001b[0m\u001b[1;33m,\u001b[0m\u001b[1;36m10\u001b[0m\u001b[1;33m,\u001b[0m\u001b[1;36m1\u001b[0m\u001b[1;33m)\u001b[0m\u001b[1;33m\u001b[0m\u001b[1;33m\u001b[0m\u001b[0m\n\u001b[0m",
      "\u001b[1;32m<ipython-input-24-4a0e0625780d>\u001b[0m in \u001b[0;36mfire_at\u001b[1;34m(self, x, y, z)\u001b[0m\n\u001b[0;32m     27\u001b[0m         \u001b[1;32mif\u001b[0m  \u001b[0mself\u001b[0m\u001b[1;33m.\u001b[0m\u001b[0mz\u001b[0m\u001b[1;33m!=\u001b[0m\u001b[1;36m0\u001b[0m\u001b[1;33m:\u001b[0m\u001b[1;33m\u001b[0m\u001b[1;33m\u001b[0m\u001b[0m\n\u001b[0;32m     28\u001b[0m \u001b[1;33m\u001b[0m\u001b[0m\n\u001b[1;32m---> 29\u001b[1;33m             \u001b[1;32mraise\u001b[0m \u001b[0mOutOfRangeError\u001b[0m\u001b[1;33m(\u001b[0m\u001b[0mz\u001b[0m\u001b[1;33m)\u001b[0m\u001b[1;33m\u001b[0m\u001b[1;33m\u001b[0m\u001b[0m\n\u001b[0m\u001b[0;32m     30\u001b[0m             \u001b[0mself\u001b[0m\u001b[1;33m.\u001b[0m\u001b[0mammunitions\u001b[0m\u001b[1;33m=\u001b[0m\u001b[0mself\u001b[0m\u001b[1;33m.\u001b[0m\u001b[0mammunitions\u001b[0m\u001b[1;33m-\u001b[0m\u001b[1;36m1\u001b[0m\u001b[1;33m\u001b[0m\u001b[1;33m\u001b[0m\u001b[0m\n\u001b[0;32m     31\u001b[0m \u001b[1;33m\u001b[0m\u001b[0m\n",
      "\u001b[1;31mOutOfRangeError\u001b[0m: la condition en z n'est pas verifié"
     ]
    }
   ],
   "source": []
  },
  {
   "cell_type": "code",
   "execution_count": null,
   "id": "fc4a397d",
   "metadata": {},
   "outputs": [],
   "source": []
  }
 ],
 "metadata": {
  "kernelspec": {
   "display_name": "Python 3",
   "language": "python",
   "name": "python3"
  },
  "language_info": {
   "codemirror_mode": {
    "name": "ipython",
    "version": 3
   },
   "file_extension": ".py",
   "mimetype": "text/x-python",
   "name": "python",
   "nbconvert_exporter": "python",
   "pygments_lexer": "ipython3",
   "version": "3.8.8"
  }
 },
 "nbformat": 4,
 "nbformat_minor": 5
}
