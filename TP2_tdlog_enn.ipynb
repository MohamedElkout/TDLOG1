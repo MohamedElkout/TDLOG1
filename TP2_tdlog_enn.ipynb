{
 "cells": [
  {
   "cell_type": "code",
   "execution_count": 1,
   "id": "a3208223",
   "metadata": {},
   "outputs": [],
   "source": []
  },
  {
   "cell_type": "code",
   "execution_count": 244,
   "id": "fa94af22",
   "metadata": {},
   "outputs": [],
   "source": [
    "class Weapon:\n",
    "    def __init__(self,ammunitions:int,range:int) -> None:\n",
    "        self.ammunitions=ammunitions\n",
    "        self.range=range\n",
    "    def fire_at(self,x:int,y:int,z:int):\n",
    "        self.x=x\n",
    "        self.y=y\n",
    "        self.z=z\n",
    "        "
   ]
  },
  {
   "cell_type": "code",
   "execution_count": 245,
   "id": "aee2063c",
   "metadata": {},
   "outputs": [],
   "source": [
    "class OutOfRangeError(Exception):\n",
    "\n",
    "    def __init__(self,z, message=\"la condition en z n'est pas verifié\"):\n",
    "        self.z = z\n",
    "        self.message = message\n",
    "        super().__init__(self.message)\n",
    "\n",
    "class NoAmmunitionError(Exception):\n",
    "\n",
    "    def __init__(self,ammunitions, message=\"la munitions est egale à 0\"):\n",
    "        self.ammunitions= ammunitions\n",
    "        self.message = message\n",
    "        super().__init__(self.message)\n",
    "\n",
    "\n",
    "\n",
    "class Lance_missiles_antisurface(Weapon):\n",
    "    def __init__(self):\n",
    "        super().__init__(40,30)\n",
    "        \n",
    "    def fire_at(self,x:int,y:int,z:int):\n",
    "        self.x=x\n",
    "        self.y=y\n",
    "        self.z=z\n",
    "        if self.ammunitions==0:\n",
    "            raise NoAmmunitionError(self.ammunitions)\n",
    "        if  self.z!=0:\n",
    "        \n",
    "            raise OutOfRangeError(z)\n",
    "            self.ammunitions=self.ammunitions-1\n",
    "            \n",
    "            \n",
    "class Lance_missiles_antiair(Weapon):\n",
    "    def __init__(self):\n",
    "        super().__init__(40,30)\n",
    "\n",
    "\n",
    "        \n",
    "    def fire_at(self,x:int,y:int,z:int):\n",
    "        self.x=x\n",
    "        self.y=y\n",
    "        self.z=z\n",
    "        if self.ammunitions==0:\n",
    "            raise NoAmmunitionError(self.ammunitions)\n",
    "        \n",
    "        if self.z<=0:\n",
    "            raise OutOfRangeError(z) \n",
    "            self.ammunitions=self.ammunitions-1\n",
    "            \n",
    "class Lance_torpilles(Weapon):\n",
    "    def __init__(self):\n",
    "        super().__init__(15,20)\n",
    "        \n",
    "    def fire_at(self,x:int,y:int,z:int):\n",
    "        self.x=x\n",
    "        self.y=y\n",
    "        self.z=z\n",
    "        if self.ammunitions==0:\n",
    "            raise NoAmmunitionError(self.ammunitions)\n",
    "        if self.z>0:\n",
    "            raise OutOfRangeError(z) \n",
    "            self.ammunitions=self.ammunitions-1\n",
    "        \n",
    "    "
   ]
  },
  {
   "cell_type": "code",
   "execution_count": 246,
   "id": "62a90fdb",
   "metadata": {},
   "outputs": [
    {
     "ename": "NameError",
     "evalue": "name 'va' is not defined",
     "output_type": "error",
     "traceback": [
      "\u001b[1;31m---------------------------------------------------------------------------\u001b[0m",
      "\u001b[1;31mNameError\u001b[0m                                 Traceback (most recent call last)",
      "\u001b[1;32m<ipython-input-246-d4fe55a30753>\u001b[0m in \u001b[0;36m<module>\u001b[1;34m\u001b[0m\n\u001b[1;32m----> 1\u001b[1;33m \u001b[0ma\u001b[0m\u001b[1;33m=\u001b[0m \u001b[0mva\u001b[0m\u001b[1;33m\u001b[0m\u001b[1;33m\u001b[0m\u001b[0m\n\u001b[0m\u001b[0;32m      2\u001b[0m \u001b[0ma\u001b[0m\u001b[1;33m.\u001b[0m\u001b[0mfire_at\u001b[0m\u001b[1;33m(\u001b[0m\u001b[1;36m1\u001b[0m\u001b[1;33m,\u001b[0m\u001b[1;36m1\u001b[0m\u001b[1;33m,\u001b[0m\u001b[1;36m10\u001b[0m\u001b[1;33m)\u001b[0m\u001b[1;33m\u001b[0m\u001b[1;33m\u001b[0m\u001b[0m\n",
      "\u001b[1;31mNameError\u001b[0m: name 'va' is not defined"
     ]
    }
   ],
   "source": [
    "a= va\n",
    "a.fire_at(1,1,10)"
   ]
  },
  {
   "cell_type": "code",
   "execution_count": 247,
   "id": "7b71cdc6",
   "metadata": {},
   "outputs": [
    {
     "ename": "AttributeError",
     "evalue": "'Aircraft' object has no attribute 'range'",
     "output_type": "error",
     "traceback": [
      "\u001b[1;31m---------------------------------------------------------------------------\u001b[0m",
      "\u001b[1;31mAttributeError\u001b[0m                            Traceback (most recent call last)",
      "\u001b[1;32m<ipython-input-247-c2e08a367136>\u001b[0m in \u001b[0;36m<module>\u001b[1;34m\u001b[0m\n\u001b[1;32m----> 1\u001b[1;33m \u001b[0ma\u001b[0m\u001b[1;33m.\u001b[0m\u001b[0mrange\u001b[0m\u001b[1;33m\u001b[0m\u001b[1;33m\u001b[0m\u001b[0m\n\u001b[0m",
      "\u001b[1;31mAttributeError\u001b[0m: 'Aircraft' object has no attribute 'range'"
     ]
    }
   ],
   "source": [
    "a.range"
   ]
  },
  {
   "cell_type": "code",
   "execution_count": 248,
   "id": "e9d486c1",
   "metadata": {},
   "outputs": [],
   "source": [
    "class DestroyedError(Exception):\n",
    "\n",
    "    def __init__(self,max_hits, message=\"lle vaiseaux est detruit \"):\n",
    "        self.max_hits= max_hits\n",
    "        self.message = message\n",
    "        super().__init__(self.message)\n",
    "class OutOfRangeErrorr(Exception):\n",
    "\n",
    "    def __init__(self,z, message=\"le vaiseaux ne pas atteint l'ennemi \"):\n",
    "        self.z = z\n",
    "        self.message = message\n",
    "        super().__init__(self.message)        \n",
    "class Vessel():\n",
    "    def __init__(self,coordinates:tuple, max_hits:int, weapon:Weapon):\n",
    "        \n",
    "        \n",
    "        self.coordinates=coordinates\n",
    "        self.max_hits=max_hits\n",
    "        self.weapon = weapon\n",
    "        \n",
    "        \n",
    "    def go_to(self,a,b,c):\n",
    "        self.coordinates=(a,b,c)\n",
    "        \n",
    "    def get_coordinates(self):\n",
    "        return self.coordinates\n",
    "    def fire_at(self,e,f,g):\n",
    "        self.fire_at=self.weapon().fire_at(e,f,g)\n",
    "        if (np.sqrt((e- self.coordinates[0])**2+(f-self.coordinates[1])**2+(g-self.coordinates[2])**2)>self.fire_at.range):\n",
    "            raise OutOfRangeErrorr(self.coordinates[2])\n",
    "        if self.max_hits==0:\n",
    "            raise DestroyedError(max_hits)    \n",
    "    "
   ]
  },
  {
   "cell_type": "code",
   "execution_count": null,
   "id": "79dbae3a",
   "metadata": {},
   "outputs": [],
   "source": []
  },
  {
   "cell_type": "code",
   "execution_count": 249,
   "id": "a7382dd8",
   "metadata": {},
   "outputs": [],
   "source": [
    "a=vessel((1,2,3),1,Lance_missiles_antiair())"
   ]
  },
  {
   "cell_type": "code",
   "execution_count": 250,
   "id": "b1b883b6",
   "metadata": {},
   "outputs": [
    {
     "ename": "OutOfRangeError",
     "evalue": "la condition en z n'est pas verifié",
     "output_type": "error",
     "traceback": [
      "\u001b[1;31m---------------------------------------------------------------------------\u001b[0m",
      "\u001b[1;31mOutOfRangeError\u001b[0m                           Traceback (most recent call last)",
      "\u001b[1;32m<ipython-input-250-e16121432e0c>\u001b[0m in \u001b[0;36m<module>\u001b[1;34m\u001b[0m\n\u001b[1;32m----> 1\u001b[1;33m \u001b[0ma\u001b[0m\u001b[1;33m.\u001b[0m\u001b[0mfire_at\u001b[0m\u001b[1;33m(\u001b[0m\u001b[1;36m10\u001b[0m\u001b[1;33m,\u001b[0m\u001b[1;36m10\u001b[0m\u001b[1;33m,\u001b[0m\u001b[1;36m0\u001b[0m\u001b[1;33m)\u001b[0m\u001b[1;33m\u001b[0m\u001b[1;33m\u001b[0m\u001b[0m\n\u001b[0m",
      "\u001b[1;32m<ipython-input-153-6a2f1b1d5331>\u001b[0m in \u001b[0;36mfire_at\u001b[1;34m(self, e, f, g)\u001b[0m\n\u001b[0;32m     26\u001b[0m         \u001b[1;32mreturn\u001b[0m \u001b[0mself\u001b[0m\u001b[1;33m.\u001b[0m\u001b[0mcoordinates\u001b[0m\u001b[1;33m\u001b[0m\u001b[1;33m\u001b[0m\u001b[0m\n\u001b[0;32m     27\u001b[0m     \u001b[1;32mdef\u001b[0m \u001b[0mfire_at\u001b[0m\u001b[1;33m(\u001b[0m\u001b[0mself\u001b[0m\u001b[1;33m,\u001b[0m\u001b[0me\u001b[0m\u001b[1;33m,\u001b[0m\u001b[0mf\u001b[0m\u001b[1;33m,\u001b[0m\u001b[0mg\u001b[0m\u001b[1;33m)\u001b[0m\u001b[1;33m:\u001b[0m\u001b[1;33m\u001b[0m\u001b[1;33m\u001b[0m\u001b[0m\n\u001b[1;32m---> 28\u001b[1;33m         \u001b[0mself\u001b[0m\u001b[1;33m.\u001b[0m\u001b[0mfire_at\u001b[0m\u001b[1;33m=\u001b[0m\u001b[0mself\u001b[0m\u001b[1;33m.\u001b[0m\u001b[0mweapon\u001b[0m\u001b[1;33m.\u001b[0m\u001b[0mfire_at\u001b[0m\u001b[1;33m(\u001b[0m\u001b[0me\u001b[0m\u001b[1;33m,\u001b[0m\u001b[0mf\u001b[0m\u001b[1;33m,\u001b[0m\u001b[0mg\u001b[0m\u001b[1;33m)\u001b[0m\u001b[1;33m\u001b[0m\u001b[1;33m\u001b[0m\u001b[0m\n\u001b[0m\u001b[0;32m     29\u001b[0m         \u001b[1;32mif\u001b[0m \u001b[1;33m(\u001b[0m\u001b[0mnp\u001b[0m\u001b[1;33m.\u001b[0m\u001b[0msqrt\u001b[0m\u001b[1;33m(\u001b[0m\u001b[1;33m(\u001b[0m\u001b[0me\u001b[0m\u001b[1;33m-\u001b[0m \u001b[0mself\u001b[0m\u001b[1;33m.\u001b[0m\u001b[0mcoordinates\u001b[0m\u001b[1;33m[\u001b[0m\u001b[1;36m0\u001b[0m\u001b[1;33m]\u001b[0m\u001b[1;33m)\u001b[0m\u001b[1;33m**\u001b[0m\u001b[1;36m2\u001b[0m\u001b[1;33m+\u001b[0m\u001b[1;33m(\u001b[0m\u001b[0mf\u001b[0m\u001b[1;33m-\u001b[0m\u001b[0mself\u001b[0m\u001b[1;33m.\u001b[0m\u001b[0mcoordinates\u001b[0m\u001b[1;33m[\u001b[0m\u001b[1;36m1\u001b[0m\u001b[1;33m]\u001b[0m\u001b[1;33m)\u001b[0m\u001b[1;33m**\u001b[0m\u001b[1;36m2\u001b[0m\u001b[1;33m+\u001b[0m\u001b[1;33m(\u001b[0m\u001b[0mg\u001b[0m\u001b[1;33m-\u001b[0m\u001b[0mself\u001b[0m\u001b[1;33m.\u001b[0m\u001b[0mcoordinates\u001b[0m\u001b[1;33m[\u001b[0m\u001b[1;36m2\u001b[0m\u001b[1;33m]\u001b[0m\u001b[1;33m)\u001b[0m\u001b[1;33m**\u001b[0m\u001b[1;36m2\u001b[0m\u001b[1;33m)\u001b[0m\u001b[1;33m>\u001b[0m\u001b[0mself\u001b[0m\u001b[1;33m.\u001b[0m\u001b[0mfire_at\u001b[0m\u001b[1;33m.\u001b[0m\u001b[0mrange\u001b[0m\u001b[1;33m)\u001b[0m\u001b[1;33m:\u001b[0m\u001b[1;33m\u001b[0m\u001b[1;33m\u001b[0m\u001b[0m\n\u001b[0;32m     30\u001b[0m             \u001b[1;32mraise\u001b[0m \u001b[0mOutOfRangeErrorr\u001b[0m\u001b[1;33m(\u001b[0m\u001b[0mself\u001b[0m\u001b[1;33m.\u001b[0m\u001b[0mcoordinates\u001b[0m\u001b[1;33m[\u001b[0m\u001b[1;36m2\u001b[0m\u001b[1;33m]\u001b[0m\u001b[1;33m)\u001b[0m\u001b[1;33m\u001b[0m\u001b[1;33m\u001b[0m\u001b[0m\n",
      "\u001b[1;32m<ipython-input-245-4a0e0625780d>\u001b[0m in \u001b[0;36mfire_at\u001b[1;34m(self, x, y, z)\u001b[0m\n\u001b[0;32m     45\u001b[0m \u001b[1;33m\u001b[0m\u001b[0m\n\u001b[0;32m     46\u001b[0m         \u001b[1;32mif\u001b[0m \u001b[0mself\u001b[0m\u001b[1;33m.\u001b[0m\u001b[0mz\u001b[0m\u001b[1;33m<=\u001b[0m\u001b[1;36m0\u001b[0m\u001b[1;33m:\u001b[0m\u001b[1;33m\u001b[0m\u001b[1;33m\u001b[0m\u001b[0m\n\u001b[1;32m---> 47\u001b[1;33m             \u001b[1;32mraise\u001b[0m \u001b[0mOutOfRangeError\u001b[0m\u001b[1;33m(\u001b[0m\u001b[0mz\u001b[0m\u001b[1;33m)\u001b[0m\u001b[1;33m\u001b[0m\u001b[1;33m\u001b[0m\u001b[0m\n\u001b[0m\u001b[0;32m     48\u001b[0m             \u001b[0mself\u001b[0m\u001b[1;33m.\u001b[0m\u001b[0mammunitions\u001b[0m\u001b[1;33m=\u001b[0m\u001b[0mself\u001b[0m\u001b[1;33m.\u001b[0m\u001b[0mammunitions\u001b[0m\u001b[1;33m-\u001b[0m\u001b[1;36m1\u001b[0m\u001b[1;33m\u001b[0m\u001b[1;33m\u001b[0m\u001b[0m\n\u001b[0;32m     49\u001b[0m \u001b[1;33m\u001b[0m\u001b[0m\n",
      "\u001b[1;31mOutOfRangeError\u001b[0m: la condition en z n'est pas verifié"
     ]
    }
   ],
   "source": [
    "a.fire_at(10,10,0)"
   ]
  },
  {
   "cell_type": "code",
   "execution_count": 251,
   "id": "c1f0f197",
   "metadata": {},
   "outputs": [
    {
     "data": {
      "text/plain": [
       "(1, 2, 3)"
      ]
     },
     "execution_count": 251,
     "metadata": {},
     "output_type": "execute_result"
    }
   ],
   "source": [
    "a.get_coordinates()"
   ]
  },
  {
   "cell_type": "code",
   "execution_count": 252,
   "id": "f57f13e2",
   "metadata": {},
   "outputs": [],
   "source": [
    "a.go_to(1,1,1)"
   ]
  },
  {
   "cell_type": "code",
   "execution_count": 253,
   "id": "495061cc",
   "metadata": {},
   "outputs": [
    {
     "name": "stderr",
     "output_type": "stream",
     "text": [
      "E\n",
      "======================================================================\n",
      "ERROR: C:\\Users\\HP\\AppData\\Roaming\\jupyter\\runtime\\kernel-1ed4a4b3-85a6-40ca-bcfa-20d9910a9ffd (unittest.loader._FailedTest)\n",
      "----------------------------------------------------------------------\n",
      "AttributeError: module '__main__' has no attribute 'C:\\Users\\HP\\AppData\\Roaming\\jupyter\\runtime\\kernel-1ed4a4b3-85a6-40ca-bcfa-20d9910a9ffd'\n",
      "\n",
      "----------------------------------------------------------------------\n",
      "Ran 1 test in 0.001s\n",
      "\n",
      "FAILED (errors=1)\n"
     ]
    },
    {
     "ename": "SystemExit",
     "evalue": "True",
     "output_type": "error",
     "traceback": [
      "An exception has occurred, use %tb to see the full traceback.\n",
      "\u001b[1;31mSystemExit\u001b[0m\u001b[1;31m:\u001b[0m True\n"
     ]
    },
    {
     "name": "stderr",
     "output_type": "stream",
     "text": [
      "C:\\ProgramData\\Anaconda3\\lib\\site-packages\\IPython\\core\\interactiveshell.py:3445: UserWarning: To exit: use 'exit', 'quit', or Ctrl-D.\n",
      "  warn(\"To exit: use 'exit', 'quit', or Ctrl-D.\", stacklevel=1)\n"
     ]
    }
   ],
   "source": [
    "import unittest\n",
    "\n",
    "\n",
    "class ChaineDeCaractereTest(unittest.TestCase):\n",
    "\n",
    "    def test_cordinate(self):\n",
    "        # Arrange\n",
    "        a=vessel((1,2,3),1,Lance_missiles_antiair())\n",
    "        self.assertEqual((1,2,3),a.get_coordinates())\n",
    "        # Act\n",
    "        a.go_to(1,1,1)\n",
    "    def test_to_go(self):\n",
    "        a=vessel((1,2,3),1,Lance_missiles_antiair())\n",
    "        a.go_to(1,1,1)\n",
    "\n",
    "        # Assert\n",
    "        self.assertEqual((1,1,1), a.get_coordinates())\n",
    "if __name__ == '__main__':\n",
    "    unittest.main()       "
   ]
  },
  {
   "cell_type": "code",
   "execution_count": 254,
   "id": "7b05e9cc",
   "metadata": {},
   "outputs": [],
   "source": [
    "import numpy as np\n",
    "\n",
    "class Cruiser(Vessel):\n",
    "    def __init__(self,x,y):\n",
    "        super().__init__((x,y,0),6,Lance_missiles_antiair)\n",
    "    \n",
    "    def go_to(self,x:int,y:int,z:int):\n",
    "        super().go_to(x,y,z)\n",
    "        \n",
    "    def fire_at(self,x:int,y:int,z:int):\n",
    "        self.fire_at=self.weapon().fire_at(x,y,z)\n",
    "        \n",
    "            \n",
    "class Submarine(Vessel):\n",
    "    def __init__(self,x,y):\n",
    "        super().__init__((x,y,0),2,Lance_torpilles)\n",
    "    \n",
    "    def go_to(self,x:int,y:int,z:int):\n",
    "        super().go_to(x,y,z)\n",
    "        if not (z==-1 or z==0):\n",
    "            raise Weapon.NoAmmunitionError(\"it's a Submarine\")\n",
    "            \n",
    "    def fire_at(self,x:int,y:int,z:int):\n",
    "        self.fire_at=self.weapon().fire_at(x,y,z)\n",
    "    \n",
    "class Fregate(Vessel):\n",
    "    def __init__(self,x,y):\n",
    "        super().__init__((x,y,0),5,Lance_missiles_antisurface)\n",
    "    \n",
    "    def go_to(self,x:int,y:int,z:int):\n",
    "        super().go_to(x,y,z)\n",
    "        if not z==0:\n",
    "            raise Weapon.NoAmmunitionError(\"it's a Fregate\")\n",
    "            \n",
    "    def fire_at(self,x:int,y:int,z:int):\n",
    "        self.fire_at=self.weapon().fire_at(x,y,z)\n",
    "    \n",
    "\n",
    "class Destroyer(Vessel):\n",
    "    def __init__(self,x,y):\n",
    "        super().__init__((x,y,0),4,Lance_torpilles)\n",
    "    \n",
    "    def go_to(self,x:int,y:int,z:int):\n",
    "        super().go_to(x,y,z)\n",
    "        if not z==0:\n",
    "            raise Weapon.NoAmmunitionError(\"it's a Destroyer\")\n",
    "            \n",
    "    def fire_at(self,x:int,y:int,z:int):\n",
    "        self.fire_at=self.weapon().fire_at(x,y,z)\n",
    "    \n",
    "\n",
    "class Aircraft(Vessel):\n",
    "    def __init__(self,x,y):\n",
    "        super().__init__((x,y,1),1,Lance_missiles_antisurface)\n",
    "    \n",
    "    def go_to(self,x:int,y:int,z:int):\n",
    "        super().go_to(x,y,z)\n",
    "        if not z==0:\n",
    "            raise Weapon.NoAmmunitionError(\"it's a Aircraft\")\n",
    "            \n",
    "    def fire_at(self,x:int,y:int,z:int):\n",
    "        self.fire_at=self.weapon().fire_at(x,y,z)\n",
    "    \n"
   ]
  },
  {
   "cell_type": "code",
   "execution_count": 265,
   "id": "a4be77b3",
   "metadata": {},
   "outputs": [
    {
     "ename": "KeyboardInterrupt",
     "evalue": "Interrupted by user",
     "output_type": "error",
     "traceback": [
      "\u001b[1;31m---------------------------------------------------------------------------\u001b[0m",
      "\u001b[1;31mKeyboardInterrupt\u001b[0m                         Traceback (most recent call last)",
      "\u001b[1;32m<ipython-input-265-696e533f9941>\u001b[0m in \u001b[0;36m<module>\u001b[1;34m\u001b[0m\n\u001b[0;32m      3\u001b[0m \u001b[0mmax_hits\u001b[0m\u001b[1;33m=\u001b[0m\u001b[1;36m0\u001b[0m\u001b[1;33m\u001b[0m\u001b[1;33m\u001b[0m\u001b[0m\n\u001b[0;32m      4\u001b[0m \u001b[1;32mwhile\u001b[0m \u001b[0mmax_hits\u001b[0m\u001b[1;33m<=\u001b[0m\u001b[1;36m22\u001b[0m\u001b[1;33m:\u001b[0m\u001b[1;33m\u001b[0m\u001b[1;33m\u001b[0m\u001b[0m\n\u001b[1;32m----> 5\u001b[1;33m     \u001b[0mx\u001b[0m\u001b[1;33m=\u001b[0m\u001b[0minput\u001b[0m\u001b[1;33m(\u001b[0m\u001b[1;34m'entrer la premier position entre 0 et 100'\u001b[0m\u001b[1;33m)\u001b[0m\u001b[1;33m\u001b[0m\u001b[1;33m\u001b[0m\u001b[0m\n\u001b[0m\u001b[0;32m      6\u001b[0m     \u001b[0my\u001b[0m\u001b[1;33m=\u001b[0m\u001b[0minput\u001b[0m\u001b[1;33m(\u001b[0m\u001b[1;34m'entrer la deuxieme position 0 et 100'\u001b[0m\u001b[1;33m)\u001b[0m\u001b[1;33m\u001b[0m\u001b[1;33m\u001b[0m\u001b[0m\n\u001b[0;32m      7\u001b[0m     \u001b[0mz\u001b[0m\u001b[1;33m=\u001b[0m\u001b[0minput\u001b[0m\u001b[1;33m(\u001b[0m\u001b[1;34m'entrer la troisieme position entre 0 et 1 et -1'\u001b[0m\u001b[1;33m)\u001b[0m\u001b[1;33m\u001b[0m\u001b[1;33m\u001b[0m\u001b[0m\n",
      "\u001b[1;32mC:\\ProgramData\\Anaconda3\\lib\\site-packages\\ipykernel\\kernelbase.py\u001b[0m in \u001b[0;36mraw_input\u001b[1;34m(self, prompt)\u001b[0m\n\u001b[0;32m    858\u001b[0m                 \u001b[1;34m\"raw_input was called, but this frontend does not support input requests.\"\u001b[0m\u001b[1;33m\u001b[0m\u001b[1;33m\u001b[0m\u001b[0m\n\u001b[0;32m    859\u001b[0m             )\n\u001b[1;32m--> 860\u001b[1;33m         return self._input_request(str(prompt),\n\u001b[0m\u001b[0;32m    861\u001b[0m             \u001b[0mself\u001b[0m\u001b[1;33m.\u001b[0m\u001b[0m_parent_ident\u001b[0m\u001b[1;33m,\u001b[0m\u001b[1;33m\u001b[0m\u001b[1;33m\u001b[0m\u001b[0m\n\u001b[0;32m    862\u001b[0m             \u001b[0mself\u001b[0m\u001b[1;33m.\u001b[0m\u001b[0m_parent_header\u001b[0m\u001b[1;33m,\u001b[0m\u001b[1;33m\u001b[0m\u001b[1;33m\u001b[0m\u001b[0m\n",
      "\u001b[1;32mC:\\ProgramData\\Anaconda3\\lib\\site-packages\\ipykernel\\kernelbase.py\u001b[0m in \u001b[0;36m_input_request\u001b[1;34m(self, prompt, ident, parent, password)\u001b[0m\n\u001b[0;32m    902\u001b[0m             \u001b[1;32mexcept\u001b[0m \u001b[0mKeyboardInterrupt\u001b[0m\u001b[1;33m:\u001b[0m\u001b[1;33m\u001b[0m\u001b[1;33m\u001b[0m\u001b[0m\n\u001b[0;32m    903\u001b[0m                 \u001b[1;31m# re-raise KeyboardInterrupt, to truncate traceback\u001b[0m\u001b[1;33m\u001b[0m\u001b[1;33m\u001b[0m\u001b[1;33m\u001b[0m\u001b[0m\n\u001b[1;32m--> 904\u001b[1;33m                 \u001b[1;32mraise\u001b[0m \u001b[0mKeyboardInterrupt\u001b[0m\u001b[1;33m(\u001b[0m\u001b[1;34m\"Interrupted by user\"\u001b[0m\u001b[1;33m)\u001b[0m \u001b[1;32mfrom\u001b[0m \u001b[1;32mNone\u001b[0m\u001b[1;33m\u001b[0m\u001b[1;33m\u001b[0m\u001b[0m\n\u001b[0m\u001b[0;32m    905\u001b[0m             \u001b[1;32mexcept\u001b[0m \u001b[0mException\u001b[0m \u001b[1;32mas\u001b[0m \u001b[0me\u001b[0m\u001b[1;33m:\u001b[0m\u001b[1;33m\u001b[0m\u001b[1;33m\u001b[0m\u001b[0m\n\u001b[0;32m    906\u001b[0m                 \u001b[0mself\u001b[0m\u001b[1;33m.\u001b[0m\u001b[0mlog\u001b[0m\u001b[1;33m.\u001b[0m\u001b[0mwarning\u001b[0m\u001b[1;33m(\u001b[0m\u001b[1;34m\"Invalid Message:\"\u001b[0m\u001b[1;33m,\u001b[0m \u001b[0mexc_info\u001b[0m\u001b[1;33m=\u001b[0m\u001b[1;32mTrue\u001b[0m\u001b[1;33m)\u001b[0m\u001b[1;33m\u001b[0m\u001b[1;33m\u001b[0m\u001b[0m\n",
      "\u001b[1;31mKeyboardInterrupt\u001b[0m: Interrupted by user"
     ]
    }
   ],
   "source": [
    "vaiseaux=[]\n",
    "position=[]\n",
    "max_hits=0\n",
    "while max_hits<=22:\n",
    "    x=input('entrer la premier position entre 0 et 100')\n",
    "    y=input('entrer la deuxieme position 0 et 100')\n",
    "    z=input('entrer la troisieme position entre 0 et 1 et -1')\n",
    "    if [x,y,z] not in position:\n",
    "        position.append([x,y,z])\n",
    "        vaiseaux1=input('choisir les vaiseaux ')\n",
    "        if vaiseaux1=='Fregate':\n",
    "            vaiseaux.append(Fregate(x,y))\n",
    "            max_hits=max_hits+5\n",
    "        if vaiseaux1=='Cruiser':\n",
    "            vaiseaux.append(Fregate(x,y))\n",
    "            max_hits=max_hits+6\n",
    "        if vaiseaux1=='Submarine':\n",
    "            vaiseaux.append(Fregate(x,y))\n",
    "            max_hits=max_hits+2\n",
    "        if vaiseaux1=='Destroyer':\n",
    "            vaiseaux.append(Fregate(x,y))\n",
    "            max_hits=max_hits+4\n",
    "        if vaiseaux1=='Aircraft':\n",
    "            vaiseaux.append(Fregate(x,y))\n",
    "            max_hits=max_hits+1\n",
    "    \n",
    "    \n",
    "    "
   ]
  },
  {
   "cell_type": "code",
   "execution_count": 266,
   "id": "a9e26cc3",
   "metadata": {},
   "outputs": [],
   "source": [
    "def recevoir(x,y,z,L):\n",
    "    if [x,y,z] not in L:\n",
    "        return False\n",
    "    \n",
    "    \n"
   ]
  },
  {
   "cell_type": "code",
   "execution_count": null,
   "id": "07dd9aa7",
   "metadata": {},
   "outputs": [],
   "source": [
    "# premier joueurs \n",
    "vaiseaux1=[]\n",
    "position1=[]\n",
    "max_hits=0\n",
    "while max_hits<=22:\n",
    "    x=input('entrer la premier position entre 0 et 100')\n",
    "    y=input('entrer la deuxieme position 0 et 100')\n",
    "    z=input('entrer la troisieme position entre 0 et 1 et -1')\n",
    "    if [x,y,z] not in position:\n",
    "        position.append([x,y,z])\n",
    "        vaiseaux1=input('choisir les vaiseaux ')\n",
    "        if vaiseaux1=='Fregate':\n",
    "            vaiseaux.append(Fregate(x,y))\n",
    "            max_hits=max_hits+5\n",
    "        if vaiseaux1=='Cruiser':\n",
    "            vaiseaux.append(Fregate(x,y))\n",
    "            max_hits=max_hits+6\n",
    "        if vaiseaux1=='Submarine':\n",
    "            vaiseaux.append(Fregate(x,y))\n",
    "            max_hits=max_hits+2\n",
    "        if vaiseaux1=='Destroyer':\n",
    "            vaiseaux.append(Fregate(x,y))\n",
    "            max_hits=max_hits+4\n",
    "        if vaiseaux1=='Aircraft':\n",
    "            vaiseaux.append(Fregate(x,y))\n",
    "            max_hits=max_hits+1\n"
   ]
  },
  {
   "cell_type": "code",
   "execution_count": null,
   "id": "cf23b033",
   "metadata": {},
   "outputs": [],
   "source": [
    "# deuxieme joueurs \n",
    "vaiseaux2=[]\n",
    "position2=[]\n",
    "max_hits=0\n",
    "while max_hits<=22:\n",
    "    x=input('entrer la premier position entre 0 et 100')\n",
    "    y=input('entrer la deuxieme position 0 et 100')\n",
    "    z=input('entrer la troisieme position entre 0 et 1 et -1')\n",
    "    if [x,y,z] not in position:\n",
    "        position.append([x,y,z])\n",
    "        vaiseaux1=input('choisir les vaiseaux ')\n",
    "        if vaiseaux1=='Fregate':\n",
    "            vaiseaux.append(Fregate(x,y))\n",
    "            max_hits=max_hits+5\n",
    "        if vaiseaux1=='Cruiser':\n",
    "            vaiseaux.append(Fregate(x,y))\n",
    "            max_hits=max_hits+6\n",
    "        if vaiseaux1=='Submarine':\n",
    "            vaiseaux.append(Fregate(x,y))\n",
    "            max_hits=max_hits+2\n",
    "        if vaiseaux1=='Destroyer':\n",
    "            vaiseaux.append(Fregate(x,y))\n",
    "            max_hits=max_hits+4\n",
    "        if vaiseaux1=='Aircraft':\n",
    "            vaiseaux.append(Fregate(x,y))\n",
    "            max_hits=max_hits+1"
   ]
  },
  {
   "cell_type": "code",
   "execution_count": null,
   "id": "1310ee6e",
   "metadata": {},
   "outputs": [],
   "source": [
    "\n",
    "for e,c in position1,position2:\n",
    "    if recevoir(e[0],e[1],e[2],position2):\n",
    "        "
   ]
  },
  {
   "cell_type": "code",
   "execution_count": null,
   "id": "a5354e05",
   "metadata": {},
   "outputs": [],
   "source": []
  },
  {
   "cell_type": "code",
   "execution_count": null,
   "id": "9024c1db",
   "metadata": {},
   "outputs": [],
   "source": []
  },
  {
   "cell_type": "code",
   "execution_count": null,
   "id": "2f486eb2",
   "metadata": {},
   "outputs": [],
   "source": []
  },
  {
   "cell_type": "code",
   "execution_count": null,
   "id": "2f87bd38",
   "metadata": {},
   "outputs": [],
   "source": []
  },
  {
   "cell_type": "code",
   "execution_count": 34,
   "id": "1d34462f",
   "metadata": {},
   "outputs": [],
   "source": [
    "*"
   ]
  },
  {
   "cell_type": "code",
   "execution_count": null,
   "id": "59bdae0b",
   "metadata": {},
   "outputs": [],
   "source": []
  },
  {
   "cell_type": "code",
   "execution_count": null,
   "id": "dbbc5f44",
   "metadata": {},
   "outputs": [],
   "source": []
  },
  {
   "cell_type": "code",
   "execution_count": null,
   "id": "0314953b",
   "metadata": {},
   "outputs": [],
   "source": []
  },
  {
   "cell_type": "code",
   "execution_count": null,
   "id": "6ae63113",
   "metadata": {},
   "outputs": [],
   "source": []
  },
  {
   "cell_type": "code",
   "execution_count": null,
   "id": "505be891",
   "metadata": {},
   "outputs": [],
   "source": []
  },
  {
   "cell_type": "code",
   "execution_count": null,
   "id": "fafc6833",
   "metadata": {},
   "outputs": [],
   "source": []
  },
  {
   "cell_type": "code",
   "execution_count": null,
   "id": "c9e5addc",
   "metadata": {},
   "outputs": [],
   "source": []
  },
  {
   "cell_type": "code",
   "execution_count": null,
   "id": "af7f692d",
   "metadata": {},
   "outputs": [],
   "source": []
  },
  {
   "cell_type": "code",
   "execution_count": null,
   "id": "e500a396",
   "metadata": {},
   "outputs": [],
   "source": []
  },
  {
   "cell_type": "code",
   "execution_count": null,
   "id": "1cde67d4",
   "metadata": {},
   "outputs": [],
   "source": []
  },
  {
   "cell_type": "code",
   "execution_count": null,
   "id": "6340446d",
   "metadata": {},
   "outputs": [],
   "source": []
  }
 ],
 "metadata": {
  "kernelspec": {
   "display_name": "Python 3",
   "language": "python",
   "name": "python3"
  },
  "language_info": {
   "codemirror_mode": {
    "name": "ipython",
    "version": 3
   },
   "file_extension": ".py",
   "mimetype": "text/x-python",
   "name": "python",
   "nbconvert_exporter": "python",
   "pygments_lexer": "ipython3",
   "version": "3.8.8"
  }
 },
 "nbformat": 4,
 "nbformat_minor": 5
}
