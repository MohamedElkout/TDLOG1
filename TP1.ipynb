{
 "cells": [
  {
   "cell_type": "code",
   "execution_count": 44,
   "id": "02df31f8",
   "metadata": {},
   "outputs": [],
   "source": [
    "class Weapon:\n",
    "    def __init__(self,ammunitions:int,range:int) -> None:\n",
    "        self.ammunitions=ammunitions\n",
    "        self.range=range\n",
    "    def fire_at(self,x:int,y:int,z:int):\n",
    "        self.x=x\n",
    "        self.y=y\n",
    "        self.z=z\n",
    "        "
   ]
  },
  {
   "cell_type": "code",
   "execution_count": null,
   "id": "f15d86f5",
   "metadata": {},
   "outputs": [],
   "source": []
  },
  {
   "cell_type": "code",
   "execution_count": null,
   "id": "e1953cb8",
   "metadata": {},
   "outputs": [],
   "source": []
  },
  {
   "cell_type": "code",
   "execution_count": 45,
   "id": "2af49e31",
   "metadata": {},
   "outputs": [],
   "source": [
    "class OutOfRangeError(Exception):\n",
    "\n",
    "    def __init__(self,z, message=\"la condition en z n'est pas verifié\"):\n",
    "        self.z = z\n",
    "        self.message = message\n",
    "        super().__init__(self.message)\n",
    "\n",
    "class NoAmmunitionError(Exception):\n",
    "\n",
    "    def __init__(self,ammunitions, message=\"la munitions est egale à 0\"):\n",
    "        self.ammunitions= ammunitions\n",
    "        self.message = message\n",
    "        super().__init__(self.message)\n",
    "\n",
    "\n",
    "\n",
    "class Lance_missiles_antisurface(Weapon):\n",
    "    def __init__(self):\n",
    "        super().__init__(40,30)\n",
    "        \n",
    "    def fire_at(self,x:int,y:int,z:int):\n",
    "        self.x=x\n",
    "        self.y=y\n",
    "        self.z=z\n",
    "        if self.ammunitions==0:\n",
    "            raise NoAmmunitionError(self.ammunitions)\n",
    "        if  self.z!=0:\n",
    "        \n",
    "            raise OutOfRangeError(z)\n",
    "            self.ammunitions=self.ammunitions-1\n",
    "            \n",
    "            \n",
    "class Lance_missiles_antiair(Weapon):\n",
    "    def __init__(self):\n",
    "        super().__init__(40,30)\n",
    "\n",
    "\n",
    "        \n",
    "    def fire_at(self,x:int,y:int,z:int):\n",
    "        self.x=x\n",
    "        self.y=y\n",
    "        self.z=z\n",
    "        if self.ammunitions==0:\n",
    "            raise NoAmmunitionError(self.ammunitions)\n",
    "        \n",
    "        if self.z<=0:\n",
    "            raise OutOfRangeError(z) \n",
    "            self.ammunitions=self.ammunitions-1\n",
    "            \n",
    "class Lance_torpilles(Weapon):\n",
    "    def __init__(self):\n",
    "        super().__init__(15,20)\n",
    "        \n",
    "    def fire_at(self,x:int,y:int,z:int):\n",
    "        self.x=x\n",
    "        self.y=y\n",
    "        self.z=z\n",
    "        if self.ammunitions==0:\n",
    "            raise NoAmmunitionError(self.ammunitions)\n",
    "        if self.z>0:\n",
    "            raise OutOfRangeError(z) \n",
    "            self.ammunitions=self.ammunitions-1\n",
    "        \n",
    "    "
   ]
  },
  {
   "cell_type": "code",
   "execution_count": null,
   "id": "c16969e5",
   "metadata": {},
   "outputs": [],
   "source": []
  },
  {
   "cell_type": "code",
   "execution_count": null,
   "id": "58072895",
   "metadata": {},
   "outputs": [],
   "source": []
  },
  {
   "cell_type": "code",
   "execution_count": null,
   "id": "cf0ac835",
   "metadata": {},
   "outputs": [],
   "source": []
  },
  {
   "cell_type": "code",
   "execution_count": null,
   "id": "59d1661b",
   "metadata": {},
   "outputs": [],
   "source": []
  },
  {
   "cell_type": "code",
   "execution_count": null,
   "id": "f8cdfaa5",
   "metadata": {},
   "outputs": [],
   "source": []
  },
  {
   "cell_type": "code",
   "execution_count": null,
   "id": "a6aa72f3",
   "metadata": {},
   "outputs": [],
   "source": []
  },
  {
   "cell_type": "code",
   "execution_count": null,
   "id": "87245c61",
   "metadata": {},
   "outputs": [],
   "source": []
  },
  {
   "cell_type": "code",
   "execution_count": null,
   "id": "ee4d6562",
   "metadata": {},
   "outputs": [],
   "source": []
  },
  {
   "cell_type": "code",
   "execution_count": null,
   "id": "6ec2b930",
   "metadata": {},
   "outputs": [],
   "source": []
  }
 ],
 "metadata": {
  "kernelspec": {
   "display_name": "Python 3",
   "language": "python",
   "name": "python3"
  },
  "language_info": {
   "codemirror_mode": {
    "name": "ipython",
    "version": 3
   },
   "file_extension": ".py",
   "mimetype": "text/x-python",
   "name": "python",
   "nbconvert_exporter": "python",
   "pygments_lexer": "ipython3",
   "version": "3.8.8"
  }
 },
 "nbformat": 4,
 "nbformat_minor": 5
}
