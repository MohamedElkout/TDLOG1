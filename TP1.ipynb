{
 "cells": [
  {
   "cell_type": "code",
   "execution_count": 1,
   "id": "02df31f8",
   "metadata": {},
   "outputs": [],
   "source": [
    "class Weapon:\n",
    "    def _init_(self,ammunitions:int,range:int) -> None:\n",
    "        self.ammunitions=ammunitions\n",
    "        self.range=range\n",
    "    def fire_at(self,x:int,y:int,z:int):\n",
    "        self.x=x\n",
    "        self.y=y\n",
    "        self.z=z"
   ]
  },
  {
   "cell_type": "code",
   "execution_count": 2,
   "id": "2af49e31",
   "metadata": {},
   "outputs": [],
   "source": [
    "class OutOfRangeError(Exception):\n",
    "\n",
    "    def _init_(self,z, message=\"la condition en z n'est pas verifié\"):\n",
    "        self.z = z\n",
    "        self.message = message\n",
    "        super()._init_(self.message)\n",
    "\n",
    "class NoAmmunitionError(Exception):\n",
    "\n",
    "    def _init_(self,ammunitions, message=\"la munitions est egale à 0\"):\n",
    "        self.ammunitions= ammunitions\n",
    "        self.message = message\n",
    "        super()._init_(self.message)\n",
    "\n",
    "\n",
    "\n",
    "class Lance_missiles_antisurface(Weapon):\n",
    "    def _init_(self):\n",
    "        super()._init_(40,30)\n",
    "        \n",
    "    def fire_at(self,x:int,y:int,z:int):\n",
    "        self.x=x\n",
    "        self.y=y\n",
    "        self.z=z\n",
    "        if self.ammunitions==0:\n",
    "            raise NoAmmunitionError(self.ammunitions)\n",
    "        if  self.z!=0:\n",
    "        \n",
    "            raise OutOfRangeError(z)\n",
    "            self.ammunitions=self.ammunitions-1\n",
    "            \n",
    "            \n",
    "class Lance_missiles_antiair(Weapon):\n",
    "    def _init_(self):\n",
    "        super()._init_(40,30)\n",
    "\n",
    "\n",
    "        \n",
    "    def fire_at(self,x:int,y:int,z:int):\n",
    "        self.x=x\n",
    "        self.y=y\n",
    "        self.z=z\n",
    "        if self.ammunitions==0:\n",
    "            raise NoAmmunitionError(self.ammunitions)\n",
    "        if self.z<=0:\n",
    "            raise OutOfRangeError(z) \n",
    "            self.ammunitions=self.ammunitions-1\n",
    "            \n",
    "class Lance_torpilles(Weapon):\n",
    "    def _init_(self):\n",
    "        super()._init_(15,20)  \n",
    "    def fire_at(self,x:int,y:int,z:int):\n",
    "        self.x=x\n",
    "        self.y=y\n",
    "        self.z=z\n",
    "        if self.ammunitions==0:\n",
    "            raise NoAmmunitionError(self.ammunitions)\n",
    "        if self.z>0:\n",
    "            raise OutOfRangeError(z) \n",
    "            self.ammunitions=self.ammunitions-1"
   ]
  },
  {
   "cell_type": "code",
   "execution_count": null,
   "id": "c16969e5",
   "metadata": {},
   "outputs": [],
   "source": []
  }
 ],
 "metadata": {
  "kernelspec": {
   "display_name": "Python 3 (ipykernel)",
   "language": "python",
   "name": "python3"
  },
  "language_info": {
   "codemirror_mode": {
    "name": "ipython",
    "version": 3
   },
   "file_extension": ".py",
   "mimetype": "text/x-python",
   "name": "python",
   "nbconvert_exporter": "python",
   "pygments_lexer": "ipython3",
   "version": "3.9.12"
  }
 },
 "nbformat": 4,
 "nbformat_minor": 5
}
